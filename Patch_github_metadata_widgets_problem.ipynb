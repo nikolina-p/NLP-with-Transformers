{
  "nbformat": 4,
  "nbformat_minor": 0,
  "metadata": {
    "colab": {
      "provenance": []
    },
    "kernelspec": {
      "name": "python3",
      "display_name": "Python 3"
    },
    "language_info": {
      "name": "python"
    }
  },
  "cells": [
    {
      "cell_type": "markdown",
      "source": [
        "Dirty fix for Github render problem.\n",
        "\n",
        "STEPS:\n",
        "- click on the folder icon on the left side bar in Colab\n",
        "- upload the file you want to fix metadata for in Colab's runtime envronment (here ch05.ipynb)\n",
        "- run the first cell to check if the file is in /content directory\n",
        "- update the file path in the second cell (path = \"/content/ch05.ipynb\"  # Adjust if needed) to match your file's name\n",
        "- run the code and then download the updated file to you HD and upload it to the Github from there. Rendering should work now!\n",
        "\n",
        "Keep in mind, once when Github fixes the bug on their side, your (now fixed) file might become unrenderable."
      ],
      "metadata": {
        "id": "bmKvqdItVFrq"
      }
    },
    {
      "cell_type": "code",
      "execution_count": 1,
      "metadata": {
        "colab": {
          "base_uri": "https://localhost:8080/"
        },
        "id": "rOX-xgXdST-N",
        "outputId": "1544d731-c8be-4bbd-cf0f-7c8e3ab1889e"
      },
      "outputs": [
        {
          "output_type": "stream",
          "name": "stdout",
          "text": [
            "The current directory is: /content\n",
            "Contents of the current directory: ['.config', 'ch05.ipynb', 'sample_data']\n"
          ]
        }
      ],
      "source": [
        "import nbformat\n",
        "from google.colab import drive\n",
        "import os\n",
        "\n",
        "current_directory = os.getcwd()\n",
        "\n",
        "print(f\"The current directory is: {current_directory}\")\n",
        "\n",
        "current_directory_contents = os.listdir()\n",
        "\n",
        "print(f\"Contents of the current directory: {current_directory_contents}\")"
      ]
    },
    {
      "cell_type": "code",
      "source": [
        "import nbformat\n",
        "from google.colab import drive\n",
        "import os\n",
        "\n",
        "# Path to the current Colab notebook (internal path)\n",
        "path = \"/content/ch05.ipynb\"  # Adjust if needed\n",
        "\n",
        "# Read the notebook content\n",
        "with open(path, \"r\") as f:\n",
        "    nb = nbformat.read(f, as_version=4)\n",
        "\n",
        "# Fix the widget metadata\n",
        "widgets_meta = nb.metadata.get(\"widgets\", {})\n",
        "widget_json = widgets_meta.get(\"application/vnd.jupyter.widget-state+json\", {})\n",
        "\n",
        "# If no \"state\", but raw widget IDs are there, move them into \"state\"\n",
        "if \"state\" not in widget_json:\n",
        "    state = {}\n",
        "    version_keys = {}\n",
        "    for k, v in list(widget_json.items()):\n",
        "        if k.startswith(\"version_\"):\n",
        "            version_keys[k] = v\n",
        "        else:\n",
        "            state[k] = v\n",
        "            del widget_json[k]\n",
        "    widget_json[\"state\"] = state\n",
        "    widget_json.update(version_keys)\n",
        "\n",
        "# Save the fixed notebook\n",
        "with open(path, \"w\") as f:\n",
        "    nbformat.write(nb, f)\n",
        "\n",
        "print(\"Widget metadata fixed. The notebook has been updated!\")"
      ],
      "metadata": {
        "colab": {
          "base_uri": "https://localhost:8080/"
        },
        "id": "Yx7FeBouTE5t",
        "outputId": "96ccaef6-23b4-4f37-d9f6-5a8499ca1818"
      },
      "execution_count": 2,
      "outputs": [
        {
          "output_type": "stream",
          "name": "stdout",
          "text": [
            "Widget metadata fixed. The notebook has been updated!\n"
          ]
        }
      ]
    },
    {
      "cell_type": "code",
      "source": [
        "from google.colab import files\n",
        "files.download(\"/content/ch05.ipynb\")"
      ],
      "metadata": {
        "colab": {
          "base_uri": "https://localhost:8080/",
          "height": 17
        },
        "id": "SmnddobrTFCM",
        "outputId": "c5afd187-d583-40bc-8ff1-840128556990"
      },
      "execution_count": 3,
      "outputs": [
        {
          "output_type": "display_data",
          "data": {
            "text/plain": [
              "<IPython.core.display.Javascript object>"
            ],
            "application/javascript": [
              "\n",
              "    async function download(id, filename, size) {\n",
              "      if (!google.colab.kernel.accessAllowed) {\n",
              "        return;\n",
              "      }\n",
              "      const div = document.createElement('div');\n",
              "      const label = document.createElement('label');\n",
              "      label.textContent = `Downloading \"${filename}\": `;\n",
              "      div.appendChild(label);\n",
              "      const progress = document.createElement('progress');\n",
              "      progress.max = size;\n",
              "      div.appendChild(progress);\n",
              "      document.body.appendChild(div);\n",
              "\n",
              "      const buffers = [];\n",
              "      let downloaded = 0;\n",
              "\n",
              "      const channel = await google.colab.kernel.comms.open(id);\n",
              "      // Send a message to notify the kernel that we're ready.\n",
              "      channel.send({})\n",
              "\n",
              "      for await (const message of channel.messages) {\n",
              "        // Send a message to notify the kernel that we're ready.\n",
              "        channel.send({})\n",
              "        if (message.buffers) {\n",
              "          for (const buffer of message.buffers) {\n",
              "            buffers.push(buffer);\n",
              "            downloaded += buffer.byteLength;\n",
              "            progress.value = downloaded;\n",
              "          }\n",
              "        }\n",
              "      }\n",
              "      const blob = new Blob(buffers, {type: 'application/binary'});\n",
              "      const a = document.createElement('a');\n",
              "      a.href = window.URL.createObjectURL(blob);\n",
              "      a.download = filename;\n",
              "      div.appendChild(a);\n",
              "      a.click();\n",
              "      div.remove();\n",
              "    }\n",
              "  "
            ]
          },
          "metadata": {}
        },
        {
          "output_type": "display_data",
          "data": {
            "text/plain": [
              "<IPython.core.display.Javascript object>"
            ],
            "application/javascript": [
              "download(\"download_7311ca75-c3eb-4abc-8ec8-144e189e1fa3\", \"ch05.ipynb\", 233834)"
            ]
          },
          "metadata": {}
        }
      ]
    },
    {
      "cell_type": "code",
      "source": [],
      "metadata": {
        "id": "TAnJ47B_TFK9"
      },
      "execution_count": null,
      "outputs": []
    }
  ]
}